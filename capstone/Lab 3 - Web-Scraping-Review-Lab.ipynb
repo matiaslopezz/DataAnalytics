{
 "cells": [
  {
   "cell_type": "markdown",
   "metadata": {},
   "source": [
    "<center>\n",
    "    <img src=\"https://gitlab.com/ibm/skills-network/courses/placeholder101/-/raw/master/labs/module%201/images/IDSNlogo.png\" width=\"300\" alt=\"cognitiveclass.ai logo\"  />\n",
    "</center>\n"
   ]
  },
  {
   "cell_type": "markdown",
   "metadata": {},
   "source": [
    "# **Web Scraping Lab**\n"
   ]
  },
  {
   "cell_type": "markdown",
   "metadata": {},
   "source": [
    "Estimated time needed: **30** minutes\n"
   ]
  },
  {
   "cell_type": "markdown",
   "metadata": {},
   "source": [
    "## Objectives\n"
   ]
  },
  {
   "cell_type": "markdown",
   "metadata": {},
   "source": [
    "After completing this lab you will be able to:\n"
   ]
  },
  {
   "cell_type": "markdown",
   "metadata": {},
   "source": [
    "*   Download a webpage using requests module\n",
    "*   Scrape all links from a web page\n",
    "*   Scrape all image urls from a web page\n",
    "*   Scrape data from html tables\n"
   ]
  },
  {
   "cell_type": "markdown",
   "metadata": {},
   "source": [
    "## Scrape [www.ibm.com](http://www.ibm.com/?utm_medium=Exinfluencer&utm_source=Exinfluencer&utm_content=000026UJ&utm_term=10006555&utm_id=NA-SkillsNetwork-Channel-SkillsNetworkCoursesIBMDA0321ENSkillsNetwork21426264-2021-01-01)\n"
   ]
  },
  {
   "cell_type": "markdown",
   "metadata": {},
   "source": [
    "Import the required modules and functions\n"
   ]
  },
  {
   "cell_type": "code",
   "execution_count": 1,
   "metadata": {},
   "outputs": [],
   "source": [
    "from bs4 import BeautifulSoup # this module helps in web scrapping.\n",
    "import requests  # this module helps us to download a web page"
   ]
  },
  {
   "cell_type": "markdown",
   "metadata": {},
   "source": [
    "Download the contents of the web page\n"
   ]
  },
  {
   "cell_type": "code",
   "execution_count": 2,
   "metadata": {},
   "outputs": [],
   "source": [
    "url = \"http://www.ibm.com\""
   ]
  },
  {
   "cell_type": "code",
   "execution_count": 3,
   "metadata": {},
   "outputs": [],
   "source": [
    "# get the contents of the webpage in text format and store in a variable called data\n",
    "data  = requests.get(url).text "
   ]
  },
  {
   "cell_type": "markdown",
   "metadata": {},
   "source": [
    "Create a soup object using the class BeautifulSoup\n"
   ]
  },
  {
   "cell_type": "code",
   "execution_count": 4,
   "metadata": {},
   "outputs": [],
   "source": [
    "soup = BeautifulSoup(data,\"html5lib\")  # create a soup object using the variable 'data'"
   ]
  },
  {
   "cell_type": "markdown",
   "metadata": {},
   "source": [
    "Scrape all links\n"
   ]
  },
  {
   "cell_type": "code",
   "execution_count": 5,
   "metadata": {},
   "outputs": [
    {
     "name": "stdout",
     "output_type": "stream",
     "text": [
      "https://www.ibm.com/uy/es\n",
      "https://www.ibm.com/sitemap/uy/es\n",
      "https://www.ibm.com/events/think/es-es?lnk=eshpv18l1\n",
      "https://newsroom.ibm.com/Update-on-our-actions-War-in-Ukraine\n",
      "https://www.ibm.com/about/es-es/secure-your-business/\n",
      "https://www.ibm.com/cloud/es-es/campaign/cloud-simplicity/\n",
      "https://www.ibm.com/analytics/es-es/data-fabric/\n",
      "https://www.ibm.com/cloud/es-es/aiops/\n",
      "https://www.ibm.com/consulting/es-es/\n",
      "https://developer.ibm.com/es/conferences/build-smart-on-kubernetes-latam/\n",
      "/products\n",
      "/qradar\n",
      "/it-infrastructure/z\n",
      "/products/cloud-pak-for-data\n",
      "/cloud/turbonomic\n",
      "/consulting/experience\n",
      "https://developer.ibm.com/depmodels/cloud/?lnk=hpv18ct16\n",
      "https://developer.ibm.com/technologies/artificial-intelligence?lnk=hpv18ct19\n",
      "https://developer.ibm.com/?lnk=hpv18ct9\n",
      "https://www.ibm.com/docs/en?lnk=hpv18ct14\n",
      "https://www.redbooks.ibm.com/?lnk=ushpv18ct10\n",
      "https://www.ibm.com/mysupport/s/?language=en_US\n",
      "https://www.ibm.com/mysupport/s/?language=en_US\n",
      "https://www.ibm.com/training/?lnk=hpv18ct15\n",
      "/ar-es/cloud\n",
      "/cloud/hybrid?lnk=hpv18pt14\n",
      "/ar-es/watson?lnk=ushpv18pt17\n",
      "/ar-es/garage?lnk=hpv18pt13\n",
      "/ar-es/blockchain?lnk=hpv18pt4\n",
      "https://www.ibm.com/thought-leadership/institute-business-value/?lnk=hpv18pt12\n",
      "/ar-es/analytics?lnk=hpv18pt1\n",
      "/ar-es/security?lnk=hpv18pt9\n",
      "/mx-es/financing?lnk=hpv18pt3\n",
      "https://www.ibm.com/quantum-computing?lnk=hpv18pt16\n",
      "/ar-es/cloud/learn/hybrid-cloud\n",
      "/cloud/learn/public-cloud?lnk=hpv18ct1\n",
      "/ar-es/cloud/redhat?lnk=hpv18ct13\n",
      "/ar-es/watson?lnk=hpv18ct3\n",
      "https://www.ibm.com/quantum-computing?lnk=hpv18ct18\n",
      "/cloud/learn/kubernetes?lnk=hpv18ct8\n",
      "/ar-es/products/spss-statistics?lnk=ushpv18ct7\n",
      "/ar-es/blockchain?lnk=hpv18ct1\n",
      "https://www.ibm.com/ar-es/employment/?lnk=hpv18ct2\n",
      "https://www.ibm.com/case-studies/coca-cola-european-partners/?lnk=hpv18cs1\n",
      "/case-studies/search?lnk=hpv18cs2\n",
      "#\n"
     ]
    }
   ],
   "source": [
    "for link in soup.find_all('a'):  # in html anchor/link is represented by the tag <a>\n",
    "    print(link.get('href'))"
   ]
  },
  {
   "cell_type": "markdown",
   "metadata": {},
   "source": [
    "Scrape  all images\n"
   ]
  },
  {
   "cell_type": "code",
   "execution_count": 6,
   "metadata": {},
   "outputs": [
    {
     "name": "stdout",
     "output_type": "stream",
     "text": [
      "//1.cms.s81c.com/sites/default/files/2022-02-14/ibm-security_0.jpg\n",
      "//1.cms.s81c.com/sites/default/files/2022-02-14/ibm-simplify-cloud_0.jpg\n",
      "//1.cms.s81c.com/sites/default/files/2022-02-14/ibm-data-driven_0.jpg\n",
      "//1.cms.s81c.com/sites/default/files/2022-02-14/ibm-automate_0.jpg\n",
      "//1.cms.s81c.com/sites/default/files/2022-02-14/ibm-transform-consulting_0.jpg\n",
      "//1.cms.s81c.com/sites/default/files/2022-02-16/security_merch_444x254_1.png\n",
      "//1.cms.s81c.com/sites/default/files/2022-04-07/ibm-z_0.jpeg\n",
      "//1.cms.s81c.com/sites/default/files/2022-02-16/data_merch_444x254_1.jpg\n",
      "//1.cms.s81c.com/sites/default/files/2022-02-16/automate_merch_444x254_1.jpg\n",
      "//1.cms.s81c.com/sites/default/files/2022-02-16/experience_merch_444x254_1.jpg\n"
     ]
    }
   ],
   "source": [
    "for link in soup.find_all('img'):# in html image is represented by the tag <img>\n",
    "    print(link.get('src'))"
   ]
  },
  {
   "cell_type": "markdown",
   "metadata": {},
   "source": [
    "## Scrape data from html tables\n"
   ]
  },
  {
   "cell_type": "code",
   "execution_count": null,
   "metadata": {},
   "outputs": [],
   "source": [
    "#The below url contains a html table with data about colors and color codes."
   ]
  },
  {
   "cell_type": "code",
   "execution_count": null,
   "metadata": {},
   "outputs": [],
   "source": [
    "url = \"https://cf-courses-data.s3.us.cloud-object-storage.appdomain.cloud/IBM-DA0321EN-SkillsNetwork/labs/datasets/HTMLColorCodes.html\""
   ]
  },
  {
   "cell_type": "markdown",
   "metadata": {},
   "source": [
    "Before proceeding to scrape a web site, you need to examine the contents, and the way data is organized on the website. Open the above url in your browser and check how many rows and columns are there in the color table.\n"
   ]
  },
  {
   "cell_type": "code",
   "execution_count": null,
   "metadata": {},
   "outputs": [],
   "source": [
    "# get the contents of the webpage in text format and store in a variable called data\n",
    "data  = requests.get(url).text"
   ]
  },
  {
   "cell_type": "code",
   "execution_count": null,
   "metadata": {},
   "outputs": [],
   "source": [
    "soup = BeautifulSoup(data,\"html5lib\")"
   ]
  },
  {
   "cell_type": "code",
   "execution_count": null,
   "metadata": {},
   "outputs": [],
   "source": [
    "#find a html table in the web page\n",
    "table = soup.find('table') # in html table is represented by the tag <table>"
   ]
  },
  {
   "cell_type": "code",
   "execution_count": null,
   "metadata": {},
   "outputs": [],
   "source": [
    "#Get all rows from the table\n",
    "for row in table.find_all('tr'): # in html table row is represented by the tag <tr>\n",
    "    # Get all columns in each row.\n",
    "    cols = row.find_all('td') # in html a column is represented by the tag <td>\n",
    "    color_name = cols[2].getText() # store the value in column 3 as color_name\n",
    "    color_code = cols[3].getText() # store the value in column 4 as color_code\n",
    "    print(\"{}--->{}\".format(color_name,color_code))"
   ]
  },
  {
   "cell_type": "markdown",
   "metadata": {},
   "source": [
    "## Authors\n"
   ]
  },
  {
   "cell_type": "markdown",
   "metadata": {},
   "source": [
    "Ramesh Sannareddy\n"
   ]
  },
  {
   "cell_type": "markdown",
   "metadata": {},
   "source": [
    "### Other Contributors\n"
   ]
  },
  {
   "cell_type": "markdown",
   "metadata": {},
   "source": [
    "Rav Ahuja\n"
   ]
  },
  {
   "cell_type": "markdown",
   "metadata": {},
   "source": [
    "## Change Log\n"
   ]
  },
  {
   "cell_type": "markdown",
   "metadata": {},
   "source": [
    "| Date (YYYY-MM-DD) | Version | Changed By        | Change Description                 |\n",
    "| ----------------- | ------- | ----------------- | ---------------------------------- |\n",
    "| 2020-10-17        | 0.1     | Ramesh Sannareddy | Created initial version of the lab |\n"
   ]
  },
  {
   "cell_type": "markdown",
   "metadata": {},
   "source": [
    "Copyright © 2020 IBM Corporation. This notebook and its source code are released under the terms of the [MIT License](https://cognitiveclass.ai/mit-license/?utm_medium=Exinfluencer&utm_source=Exinfluencer&utm_content=000026UJ&utm_term=10006555&utm_id=NA-SkillsNetwork-Channel-SkillsNetworkCoursesIBMDA0321ENSkillsNetwork21426264-2021-01-01).\n"
   ]
  }
 ],
 "metadata": {
  "kernelspec": {
   "display_name": "Python 3 (ipykernel)",
   "language": "python",
   "name": "python3"
  },
  "language_info": {
   "codemirror_mode": {
    "name": "ipython",
    "version": 3
   },
   "file_extension": ".py",
   "mimetype": "text/x-python",
   "name": "python",
   "nbconvert_exporter": "python",
   "pygments_lexer": "ipython3",
   "version": "3.9.7"
  }
 },
 "nbformat": 4,
 "nbformat_minor": 4
}
